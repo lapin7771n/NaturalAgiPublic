{
 "cells": [
  {
   "cell_type": "markdown",
   "metadata": {},
   "source": [
    "# Debugging image_to_neo_exporter"
   ]
  },
  {
   "cell_type": "code",
   "execution_count": 1,
   "metadata": {},
   "outputs": [],
   "source": [
    "import neo4j\n",
    "import numpy as np\n",
    "from image_to_neo_exporter import ImageNeoExporter"
   ]
  },
  {
   "cell_type": "code",
   "execution_count": 2,
   "metadata": {},
   "outputs": [],
   "source": [
    "neo4j_url = \"bolt://localhost:7687\"\n",
    "neo4j_password = \"your_password\"\n",
    "neo4j_user = \"neo4j\"\n",
    "exporter = ImageNeoExporter(neo4j_url, neo4j_user, neo4j_password)"
   ]
  },
  {
   "cell_type": "code",
   "execution_count": 3,
   "metadata": {},
   "outputs": [
    {
     "name": "stdout",
     "output_type": "stream",
     "text": [
      "[[0 1 0 0 0]\n",
      " [0 0 1 0 0]\n",
      " [0 0 0 1 0]\n",
      " [0 0 0 0 1]\n",
      " [0 0 0 0 0]]\n"
     ]
    }
   ],
   "source": [
    "image = np.tril(np.triu(np.ones((5,5),int),1),1)\n",
    "\n",
    "print(image)"
   ]
  },
  {
   "cell_type": "code",
   "execution_count": 4,
   "metadata": {},
   "outputs": [
    {
     "name": "stdout",
     "output_type": "stream",
     "text": [
      "Generated: (p00:Pixel {v: 0, y: 0, x:0}), (p01:Pixel {v: 1, y: 0, x:1}), (p02:Pixel {v: 0, y: 0, x:2}), (p03:Pixel {v: 0, y: 0, x:3}), (p04:Pixel {v: 0, y: 0, x:4}), (p10:Pixel {v: 0, y: 1, x:0}), (p11:Pixel {v: 0, y: 1, x:1}), (p12:Pixel {v: 1, y: 1, x:2}), (p13:Pixel {v: 0, y: 1, x:3}), (p14:Pixel {v: 0, y: 1, x:4}), (p20:Pixel {v: 0, y: 2, x:0}), (p21:Pixel {v: 0, y: 2, x:1}), (p22:Pixel {v: 0, y: 2, x:2}), (p23:Pixel {v: 1, y: 2, x:3}), (p24:Pixel {v: 0, y: 2, x:4}), (p30:Pixel {v: 0, y: 3, x:0}), (p31:Pixel {v: 0, y: 3, x:1}), (p32:Pixel {v: 0, y: 3, x:2}), (p33:Pixel {v: 0, y: 3, x:3}), (p34:Pixel {v: 1, y: 3, x:4}), (p40:Pixel {v: 0, y: 4, x:0}), (p41:Pixel {v: 0, y: 4, x:1}), (p42:Pixel {v: 0, y: 4, x:2}), (p43:Pixel {v: 0, y: 4, x:3}), (p44:Pixel {v: 0, y: 4, x:4}), (p00)-[:RIGHT]->(p01), (p00)-[:BOTTOM]->(p10), (p01)-[:RIGHT]->(p02), (p01)-[:BOTTOM]->(p11), (p01)-[:LEFT]->(p00), (p02)-[:RIGHT]->(p03), (p02)-[:BOTTOM]->(p12), (p02)-[:LEFT]->(p01), (p03)-[:RIGHT]->(p04), (p03)-[:BOTTOM]->(p13), (p03)-[:LEFT]->(p02), (p04)-[:BOTTOM]->(p14), (p04)-[:LEFT]->(p03), (p10)-[:RIGHT]->(p11), (p10)-[:BOTTOM]->(p20), (p10)-[:UP]->(p00), (p11)-[:RIGHT]->(p12), (p11)-[:BOTTOM]->(p21), (p11)-[:LEFT]->(p10), (p11)-[:UP]->(p01), (p12)-[:RIGHT]->(p13), (p12)-[:BOTTOM]->(p22), (p12)-[:LEFT]->(p11), (p12)-[:UP]->(p02), (p13)-[:RIGHT]->(p14), (p13)-[:BOTTOM]->(p23), (p13)-[:LEFT]->(p12), (p13)-[:UP]->(p03), (p14)-[:BOTTOM]->(p24), (p14)-[:LEFT]->(p13), (p14)-[:UP]->(p04), (p20)-[:RIGHT]->(p21), (p20)-[:BOTTOM]->(p30), (p20)-[:UP]->(p10), (p21)-[:RIGHT]->(p22), (p21)-[:BOTTOM]->(p31), (p21)-[:LEFT]->(p20), (p21)-[:UP]->(p11), (p22)-[:RIGHT]->(p23), (p22)-[:BOTTOM]->(p32), (p22)-[:LEFT]->(p21), (p22)-[:UP]->(p12), (p23)-[:RIGHT]->(p24), (p23)-[:BOTTOM]->(p33), (p23)-[:LEFT]->(p22), (p23)-[:UP]->(p13), (p24)-[:BOTTOM]->(p34), (p24)-[:LEFT]->(p23), (p24)-[:UP]->(p14), (p30)-[:RIGHT]->(p31), (p30)-[:BOTTOM]->(p40), (p30)-[:UP]->(p20), (p31)-[:RIGHT]->(p32), (p31)-[:BOTTOM]->(p41), (p31)-[:LEFT]->(p30), (p31)-[:UP]->(p21), (p32)-[:RIGHT]->(p33), (p32)-[:BOTTOM]->(p42), (p32)-[:LEFT]->(p31), (p32)-[:UP]->(p22), (p33)-[:RIGHT]->(p34), (p33)-[:BOTTOM]->(p43), (p33)-[:LEFT]->(p32), (p33)-[:UP]->(p23), (p34)-[:BOTTOM]->(p44), (p34)-[:LEFT]->(p33), (p34)-[:UP]->(p24), (p40)-[:RIGHT]->(p41), (p40)-[:UP]->(p30), (p41)-[:RIGHT]->(p42), (p41)-[:LEFT]->(p40), (p41)-[:UP]->(p31), (p42)-[:RIGHT]->(p43), (p42)-[:LEFT]->(p41), (p42)-[:UP]->(p32), (p43)-[:RIGHT]->(p44), (p43)-[:LEFT]->(p42), (p43)-[:UP]->(p33), (p44)-[:LEFT]->(p43), (p44)-[:UP]->(p34), \n",
      "<neo4j._sync.work.result.Result object at 0x7efd94610750>\n"
     ]
    }
   ],
   "source": [
    "exporter.export_image(image)\n",
    "exporter.close()"
   ]
  }
 ],
 "metadata": {
  "kernelspec": {
   "display_name": ".venv",
   "language": "python",
   "name": "python3"
  },
  "language_info": {
   "codemirror_mode": {
    "name": "ipython",
    "version": 3
   },
   "file_extension": ".py",
   "mimetype": "text/x-python",
   "name": "python",
   "nbconvert_exporter": "python",
   "pygments_lexer": "ipython3",
   "version": "3.11.5"
  },
  "orig_nbformat": 4
 },
 "nbformat": 4,
 "nbformat_minor": 2
}
