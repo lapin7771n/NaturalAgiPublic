{
 "cells": [
  {
   "cell_type": "markdown",
   "metadata": {},
   "source": [
    "# Qualitative features notebook\n",
    "\n",
    "## Generating test data"
   ]
  },
  {
   "cell_type": "code",
   "execution_count": null,
   "metadata": {},
   "outputs": [],
   "source": [
    "import os\n",
    "\n",
    "# Generate 500 images of size 100x100\n",
    "!python3 ../samples_generator/samples_generator.py --num_images 2000 --img_size 50\n",
    "!python3 ../line_detector/line_detector.py --folder_path ../../tests/generated_samples/\n",
    "\n",
    "# Calculating number of test images\n",
    "path, dirs, files = next(os.walk(\"../../tests/generated_samples/\"))\n",
    "file_count = len(files)\n",
    "print(f\"Number of test images: {file_count}\")"
   ]
  },
  {
   "cell_type": "markdown",
   "metadata": {},
   "source": [
    "### Generate squares"
   ]
  },
  {
   "cell_type": "code",
   "execution_count": 15,
   "metadata": {},
   "outputs": [],
   "source": [
    "import os\n",
    "\n",
    "# Generate 500 images of size 100x100\n",
    "!python3 ../samples_generator/square_generator.py --num_images 10 --img_size 250 --output_dir ../../tests/squares/"
   ]
  },
  {
   "cell_type": "markdown",
   "metadata": {},
   "source": [
    "## Analyze training results"
   ]
  },
  {
   "cell_type": "code",
   "execution_count": null,
   "metadata": {},
   "outputs": [],
   "source": [
    "# Import necessary libraries\n",
    "import pandas as pd\n",
    "import matplotlib.pyplot as plt\n",
    "\n",
    "# Load the dataset\n",
    "df = pd.read_csv('../../training_results/qualitative_features.csv')\n",
    "\n",
    "# Ensure node_id is a string to prevent any unintended type interpretations\n",
    "df['node_id'] = df['node_id'].astype(str)\n",
    "df['labels'] = df['labels'].astype(str)  # Ensure labels are treated as string\n",
    "\n",
    "# Combine 'node_id' and 'labels' for a unique identifier and legend information\n",
    "df['node_label'] = df['node_id'] + \" - \" + df['labels']\n",
    "\n",
    "# Get the latest (or max) relation count for each node_label to order the legend\n",
    "latest_relation_count = df.groupby('node_label')['relation_count'].max().sort_values(ascending=False)\n",
    "\n",
    "# Create a sorted list of node_labels based on the latest relation count\n",
    "sorted_node_labels = latest_relation_count.index.tolist()\n",
    "\n",
    "# Pivot the DataFrame to have iterations as index and each unique node_label as a column\n",
    "pivot_df = df.pivot_table(index='iteration', columns='node_label', values='relation_count', aggfunc='max')\n",
    "\n",
    "# Reorder pivot_df columns based on the sorted node_labels\n",
    "pivot_df = pivot_df[sorted_node_labels]\n",
    "\n",
    "# Plotting\n",
    "fig, ax = plt.subplots(figsize=(12, 12))\n",
    "\n",
    "# Plot and use the colormap for a wider variety of colors\n",
    "pivot_df.plot(kind='line', ax=ax, cmap='tab10')\n",
    "\n",
    "# Title and labels\n",
    "plt.title('Number of Inbound Links per Node Over Iterations')\n",
    "plt.xlabel('Iteration')\n",
    "plt.ylabel('Inbound Links')\n",
    "\n",
    "# Adjust legend - Since we have combined node_id and labels, it will show both\n",
    "plt.legend(title='Node ID - Label', bbox_to_anchor=(1.05, 1), loc='upper left')\n",
    "\n",
    "# Adjust layout to accommodate the legend outside the plot\n",
    "plt.tight_layout()\n",
    "\n",
    "# Show the plot\n",
    "plt.show()"
   ]
  }
 ],
 "metadata": {
  "kernelspec": {
   "display_name": "natural_agi",
   "language": "python",
   "name": "python3"
  },
  "language_info": {
   "codemirror_mode": {
    "name": "ipython",
    "version": 3
   },
   "file_extension": ".py",
   "mimetype": "text/x-python",
   "name": "python",
   "nbconvert_exporter": "python",
   "pygments_lexer": "ipython3",
   "version": "3.11.7"
  }
 },
 "nbformat": 4,
 "nbformat_minor": 2
}
